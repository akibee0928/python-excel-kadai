{
  "nbformat": 4,
  "nbformat_minor": 0,
  "metadata": {
    "colab": {
      "provenance": []
    },
    "kernelspec": {
      "name": "python3",
      "display_name": "Python 3"
    },
    "language_info": {
      "name": "python"
    }
  },
  "cells": [
    {
      "cell_type": "code",
      "execution_count": 29,
      "metadata": {
        "id": "6052SapmXFtT"
      },
      "outputs": [],
      "source": [
        "import openpyxl\n",
        "from openpyxl.styles import Border, Side\n",
        "import datetime\n",
        "from datetime import datetime\n",
        "\n",
        "#新しいワークブックを作成\n",
        "wb = openpyxl.Workbook()\n",
        "#アクティブなシートを取得\n",
        "ws = wb.active\n",
        "\n",
        "#セルに情報を入力\n",
        "ws['B2'].value = '請求書'\n",
        "ws['B4'].value = '株式会社ABC'\n",
        "ws['B5'].value = '〒101-0022 東京都千代田区神田練塀町300'\n",
        "ws['B6'].value = 'TEL:03-1234-5678 FAX:03-1234-5678'\n",
        "ws['B7'].value = '担当者名:鈴木一郎 様'\n",
        "ws['F4'].value = 'No,'\n",
        "ws['F5'].value = '日付'\n",
        "ws['G4'].value = '001'\n",
        "# 現在の日時を取得する\n",
        "now = datetime.now()\n",
        "now_print = now.strftime(\"%Y/%m/%d\")\n",
        "ws['G5'].value = now_print\n",
        "\n",
        "# 系列データのタイトルを10行目に設定\n",
        "ws.cell(row=10, column=2, value='商品')\n",
        "ws.cell(row=10, column=3, value='数量')\n",
        "ws.cell(row=10, column=4, value='単価')\n",
        "ws.cell(row=10, column=5, value='金額')\n",
        "\n",
        "# 表のデータを書き込む\n",
        "data = [\n",
        "    ['商品A', 2, 10000, 20000],\n",
        "    ['商品B', 1, 15000, 15000],\n",
        "]\n",
        "\n",
        "# データの書き込みをB列（2列目）から開始する\n",
        "start_row = 11  # 書き込み開始行\n",
        "start_col = 2  # 書き込み開始列 (B列)\n",
        "\n",
        "# for文でdataの各行をB列以降に追加する\n",
        "for i, row in enumerate(data):\n",
        "    for j, value in enumerate(row):\n",
        "        # iは行のインデックス、jは列のインデックス\n",
        "        ws.cell(row=start_row + i, column=start_col + j, value=value)\n",
        "\n",
        "ws['E13'].value = ws['E11'].value + ws['E12'].value\n",
        "\n",
        "# 指定した行に新しい行を挿入（14行目に空白行を1行挿入）\n",
        "ws.insert_rows(14, 1)\n",
        "\n",
        "ws['B15'].value = '小計'\n",
        "ws['B16'].value = '消費税'\n",
        "ws['B17'].value = '合計'\n",
        "\n",
        "ws['E15'].value = ws['E13'].value\n",
        "ws['E16'].value = ws['E13'].value * 0.1\n",
        "ws['E17'].value = ws['E13'].value + ws['E16'].value\n",
        "\n",
        "# 日付のtodayオブジェクトを、特定のフォーマットで文字列に変換する\n",
        "backup_filename = f\"請求書_{now.strftime('%Y%m%d')}.xlsx\"\n",
        "\n",
        "#ファイルを保存\n",
        "wb.save(backup_filename)"
      ]
    }
  ]
}