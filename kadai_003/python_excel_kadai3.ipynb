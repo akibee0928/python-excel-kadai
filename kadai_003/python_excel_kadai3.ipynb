{
  "nbformat": 4,
  "nbformat_minor": 0,
  "metadata": {
    "colab": {
      "provenance": []
    },
    "kernelspec": {
      "name": "python3",
      "display_name": "Python 3"
    },
    "language_info": {
      "name": "python"
    }
  },
  "cells": [
    {
      "cell_type": "code",
      "source": [
        "from openpyxl import load_workbook\n",
        "from openpyxl.styles import PatternFill\n",
        "import pandas as pd\n",
        "\n",
        "# 処理対象のファイルのリスト\n",
        "file_list = ['2022_年間売上表.xlsx', '2023_年間売上表.xlsx']\n",
        "\n",
        "print(file_list)\n",
        "\n",
        "# 結合後のデータを格納する空のデータフレームを作成\n",
        "df = pd.DataFrame()\n",
        "\n",
        "# 各ファイルを読み込み、データを結合\n",
        "for file_name in file_list:\n",
        "    temp_df = pd.read_excel(file_name, header=None)  # ヘッダーなしで読み込む\n",
        "    #print(temp_df)\n",
        "\n",
        "    # 列数が3であることを確認し、列名を設定\n",
        "    if temp_df.shape[1] == 3:\n",
        "        temp_df.columns = ['売上年', '商品', '合計']\n",
        "    else:\n",
        "        print(f\"{file_name}の列数が一致しません。\")\n",
        "        continue  # 列数が合わない場合はスキップ\n",
        "\n",
        "    # データフレームを結合\n",
        "    df = pd.concat([df, temp_df], ignore_index=True)\n",
        "   # print(df)\n",
        "\n",
        "# 不要な行（例えば、ヘッダーが途中に紛れ込んでいる場合）を削除する\n",
        "# 「売上年」列に数値以外の値が入っている行を除外\n",
        "df = df[pd.to_numeric(df['売上年'], errors='coerce').notna()]\n",
        "\n",
        "# 商品・売上年ごとに合計金額を算出\n",
        "result = df.groupby(['商品', '売上年'])['合計'].sum().reset_index()\n",
        "\n",
        "# 結果を表示\n",
        "print(result)\n",
        "\n",
        "# 集計結果をExcelファイルに保存\n",
        "output_path = '売上集計表.xlsx'\n",
        "result.to_excel(output_path, sheet_name='Sheet1', index=False)\n",
        "\n",
        "# OpenPyXLで生成したExcelファイルを開き、ヘッダーに色をつける\n",
        "wb = load_workbook(output_path)\n",
        "ws = wb['Sheet1']\n",
        "\n",
        "# ヘッダー用の塗りつぶし色を定義（薄いグレー）\n",
        "header_fill = PatternFill(start_color=\"F2F2F2\", end_color=\"F2F2F2\", fill_type=\"solid\")\n",
        "\n",
        "# 1行目のセルに対して背景色を設定\n",
        "for cell in ws[1]:\n",
        "    cell.fill = header_fill\n",
        "\n",
        "# ファイルを保存\n",
        "wb.save(output_path)\n",
        "\n"
      ],
      "metadata": {
        "colab": {
          "base_uri": "https://localhost:8080/"
        },
        "id": "e7vvDpbhDyQE",
        "outputId": "4472515d-635d-4db6-ae7c-8585f9971e3d"
      },
      "execution_count": 26,
      "outputs": [
        {
          "output_type": "stream",
          "name": "stdout",
          "text": [
            "['2022_年間売上表.xlsx', '2023_年間売上表.xlsx']\n",
            "          商品   売上年    合計\n",
            "0   アロマキャンドル  2022  1710\n",
            "1   アロマキャンドル  2023   900\n",
            "2      コーヒー豆  2023   860\n",
            "3       セッケン  2022  1300\n",
            "4       セッケン  2023  1300\n",
            "5       ハチミツ  2022  1860\n",
            "6       ハチミツ  2023  1000\n",
            "7      フライパン  2023   670\n",
            "8     ワイングラス  2022   850\n",
            "9     ワイングラス  2023   850\n",
            "10        包丁  2022   940\n",
            "11        包丁  2023   940\n",
            "12        水筒  2022  1150\n",
            "13        水筒  2023  1400\n",
            "14        紅茶  2022  2000\n",
            "15        紅茶  2023  1870\n"
          ]
        }
      ]
    }
  ]
}